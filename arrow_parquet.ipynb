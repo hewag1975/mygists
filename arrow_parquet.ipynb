{
 "cells": [
  {
   "cell_type": "markdown",
   "id": "5f714f2d-3932-46ba-92c8-a942f2ae1603",
   "metadata": {},
   "source": [
    "# Arrow and parquet\n",
    "\n",
    "* [Comparing Data Storage: Parquet vs. Arrow](https://medium.com/@diehardankush/comparing-data-storage-parquet-vs-arrow-aa2231e51c8a)"
   ]
  },
  {
   "cell_type": "code",
   "execution_count": 1,
   "id": "239cf98e-0171-4a81-91af-5593ce5ac70e",
   "metadata": {},
   "outputs": [
    {
     "data": {
      "text/plain": [
       "'/home/hendrik/Documents/repos/github/mygists/.venv/bin/python'"
      ]
     },
     "execution_count": 1,
     "metadata": {},
     "output_type": "execute_result"
    }
   ],
   "source": [
    "# import sys\n",
    "# sys.executable"
   ]
  },
  {
   "cell_type": "code",
   "execution_count": null,
   "id": "986dbc38-e994-4f7e-aff2-93b86de7599e",
   "metadata": {},
   "outputs": [],
   "source": [
    "Difference between Arrow and Parquet:\n",
    "\n",
    "* Parquet: \n",
    "    * columnar\n",
    "    * disk-based storage \n",
    "    * optimized for Hadoop\n",
    "    * high compression (Snappy, Gzip, LZO)\n",
    "* Arrow: \n",
    "    * in-memory data processing framework\n",
    "    * multi-language bindings, e.g. Python, R, Java, JavaScript, ..."
   ]
  },
  {
   "cell_type": "markdown",
   "id": "b138e5e6-959a-491c-a001-6dee739a29bc",
   "metadata": {},
   "source": [
    "Example for reading and writing:"
   ]
  },
  {
   "cell_type": "code",
   "execution_count": 2,
   "id": "575c9d06-b658-4dfe-a00c-042b45253894",
   "metadata": {},
   "outputs": [],
   "source": [
    "import pandas as pd\n",
    "import pyarrow as pa\n",
    "import pyarrow.parquet as pq\n",
    "import time"
   ]
  },
  {
   "cell_type": "code",
   "execution_count": 3,
   "id": "52e27de5-16ce-4875-a505-3edf68ee7721",
   "metadata": {},
   "outputs": [],
   "source": [
    "# Generate a sample DataFrame\n",
    "df = pd.DataFrame({\n",
    "    'one': pd.Series(range(1000000)),\n",
    "    'two': pd.Series(range(1000000, 2000000)),\n",
    "    'three': pd.Series(range(2000000, 3000000))\n",
    "})"
   ]
  },
  {
   "cell_type": "code",
   "execution_count": 4,
   "id": "4ca5f681-0e35-4f01-8930-6a3cbd7410fa",
   "metadata": {},
   "outputs": [
    {
     "data": {
      "text/html": [
       "<div>\n",
       "<style scoped>\n",
       "    .dataframe tbody tr th:only-of-type {\n",
       "        vertical-align: middle;\n",
       "    }\n",
       "\n",
       "    .dataframe tbody tr th {\n",
       "        vertical-align: top;\n",
       "    }\n",
       "\n",
       "    .dataframe thead th {\n",
       "        text-align: right;\n",
       "    }\n",
       "</style>\n",
       "<table border=\"1\" class=\"dataframe\">\n",
       "  <thead>\n",
       "    <tr style=\"text-align: right;\">\n",
       "      <th></th>\n",
       "      <th>one</th>\n",
       "      <th>two</th>\n",
       "      <th>three</th>\n",
       "    </tr>\n",
       "  </thead>\n",
       "  <tbody>\n",
       "    <tr>\n",
       "      <th>0</th>\n",
       "      <td>0</td>\n",
       "      <td>1000000</td>\n",
       "      <td>2000000</td>\n",
       "    </tr>\n",
       "    <tr>\n",
       "      <th>1</th>\n",
       "      <td>1</td>\n",
       "      <td>1000001</td>\n",
       "      <td>2000001</td>\n",
       "    </tr>\n",
       "    <tr>\n",
       "      <th>2</th>\n",
       "      <td>2</td>\n",
       "      <td>1000002</td>\n",
       "      <td>2000002</td>\n",
       "    </tr>\n",
       "    <tr>\n",
       "      <th>3</th>\n",
       "      <td>3</td>\n",
       "      <td>1000003</td>\n",
       "      <td>2000003</td>\n",
       "    </tr>\n",
       "    <tr>\n",
       "      <th>4</th>\n",
       "      <td>4</td>\n",
       "      <td>1000004</td>\n",
       "      <td>2000004</td>\n",
       "    </tr>\n",
       "  </tbody>\n",
       "</table>\n",
       "</div>"
      ],
      "text/plain": [
       "   one      two    three\n",
       "0    0  1000000  2000000\n",
       "1    1  1000001  2000001\n",
       "2    2  1000002  2000002\n",
       "3    3  1000003  2000003\n",
       "4    4  1000004  2000004"
      ]
     },
     "execution_count": 4,
     "metadata": {},
     "output_type": "execute_result"
    }
   ],
   "source": [
    "df.head()"
   ]
  },
  {
   "cell_type": "markdown",
   "id": "10019acf-b5bf-405d-a865-aea64d2fa7e8",
   "metadata": {},
   "source": [
    "Read/write from/to parquet using Pandas"
   ]
  },
  {
   "cell_type": "code",
   "execution_count": 13,
   "id": "bbefea75-bf69-47c3-98f0-c57d901d4b71",
   "metadata": {},
   "outputs": [
    {
     "name": "stdout",
     "output_type": "stream",
     "text": [
      "Parquet Write + Read time: 0.12s\n"
     ]
    }
   ],
   "source": [
    "# Writing and reading with Parquet\n",
    "start = time.time()\n",
    "df.to_parquet('data.pandas')\n",
    "read_parquet = pd.read_parquet('data.pandas')\n",
    "end = time.time()\n",
    "print(f\"Parquet Write + Read time: {round(end - start, ndigits = 2)}s\")"
   ]
  },
  {
   "cell_type": "markdown",
   "id": "d472c1d8-c69d-4861-9834-8f1ad23a17e7",
   "metadata": {},
   "source": [
    "Read/write from/to Parquet using Pyarrow"
   ]
  },
  {
   "cell_type": "code",
   "execution_count": 14,
   "id": "8c37c917-a25d-4859-b455-62ccef79400e",
   "metadata": {},
   "outputs": [
    {
     "data": {
      "text/plain": [
       "pyarrow.Table\n",
       "one: int64\n",
       "two: int64\n",
       "three: int64\n",
       "----\n",
       "one: [[0,1,2,3,4,...,999995,999996,999997,999998,999999]]\n",
       "two: [[1000000,1000001,1000002,1000003,1000004,...,1999995,1999996,1999997,1999998,1999999]]\n",
       "three: [[2000000,2000001,2000002,2000003,2000004,...,2999995,2999996,2999997,2999998,2999999]]"
      ]
     },
     "execution_count": 14,
     "metadata": {},
     "output_type": "execute_result"
    }
   ],
   "source": [
    "# Convert the DataFrame to Arrow Table\n",
    "table = pa.Table.from_pandas(df)\n",
    "table"
   ]
  },
  {
   "cell_type": "code",
   "execution_count": 15,
   "id": "f71130d1-cd14-46f5-b1ad-adcb49470d46",
   "metadata": {},
   "outputs": [
    {
     "name": "stdout",
     "output_type": "stream",
     "text": [
      "Arrow Write + Read time: 0.12\n"
     ]
    }
   ],
   "source": [
    "# Writing and reading with Arrow\n",
    "start = time.time()\n",
    "pq.write_table(table, 'data.parquet')\n",
    "read_arrow = pq.read_table('data.parquet').to_pandas()\n",
    "end = time.time()\n",
    "print(f\"Arrow Write + Read time: {round(end - start, ndigits = 2)}\")"
   ]
  },
  {
   "cell_type": "code",
   "execution_count": 16,
   "id": "f13850ef-58d4-4563-9e0b-d611cee355f1",
   "metadata": {},
   "outputs": [],
   "source": [
    "!rm data.parquet data.pandas"
   ]
  }
 ],
 "metadata": {
  "kernelspec": {
   "display_name": ".venv",
   "language": "python",
   "name": ".venv"
  },
  "language_info": {
   "codemirror_mode": {
    "name": "ipython",
    "version": 3
   },
   "file_extension": ".py",
   "mimetype": "text/x-python",
   "name": "python",
   "nbconvert_exporter": "python",
   "pygments_lexer": "ipython3",
   "version": "3.10.12"
  }
 },
 "nbformat": 4,
 "nbformat_minor": 5
}
