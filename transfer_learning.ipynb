{
 "cells": [
  {
   "cell_type": "markdown",
   "id": "f4631864-95ab-4f6a-9d2f-921c0143efba",
   "metadata": {},
   "source": [
    "# Transfer learning\n",
    "\n",
    "* [Introduction to Transfer Learning: Effective Machine Learning Without Custom Architecture](https://www.appsilon.com/post/transfer-learning-introduction)"
   ]
  },
  {
   "cell_type": "code",
   "execution_count": 5,
   "id": "5afdcc71-5b5a-4f10-b320-1a1376fce77d",
   "metadata": {},
   "outputs": [
    {
     "name": "stdout",
     "output_type": "stream",
     "text": [
      "--2024-03-28 19:06:22--  http://files.fast.ai/data/examples/dogscats.tgz\n",
      "Resolving files.fast.ai (files.fast.ai)... 104.26.2.19, 172.67.69.159, 104.26.3.19, ...\n",
      "Connecting to files.fast.ai (files.fast.ai)|104.26.2.19|:80... connected.\n",
      "HTTP request sent, awaiting response... 301 Moved Permanently\n",
      "Location: https://files.fast.ai/data/examples/dogscats.tgz [following]\n",
      "--2024-03-28 19:06:24--  https://files.fast.ai/data/examples/dogscats.tgz\n",
      "Connecting to files.fast.ai (files.fast.ai)|104.26.2.19|:443... connected.\n",
      "HTTP request sent, awaiting response... 200 OK\n",
      "Length: 839285364 (800M) [application/x-gtar-compressed]\n",
      "Saving to: ‘dogscats.tgz’\n",
      "\n",
      "dogscats.tgz        100%[===================>] 800.40M  1.62MB/s    in 38m 54s \n",
      "\n",
      "2024-03-28 19:45:19 (351 KB/s) - ‘dogscats.tgz’ saved [839285364/839285364]\n",
      "\n"
     ]
    }
   ],
   "source": [
    "# !wget http://files.fast.ai/data/examples/dogscats.tgz\n",
    "# !mkdir transfer_learning_data;\n",
    "# !mv dogscats.tgz transfer_learning_data/ ;\n",
    "# !tar zxvf transfer_learning_data/dogscats.tgz;"
   ]
  }
 ],
 "metadata": {
  "kernelspec": {
   "display_name": ".venv",
   "language": "python",
   "name": ".venv"
  },
  "language_info": {
   "codemirror_mode": {
    "name": "ipython",
    "version": 3
   },
   "file_extension": ".py",
   "mimetype": "text/x-python",
   "name": "python",
   "nbconvert_exporter": "python",
   "pygments_lexer": "ipython3",
   "version": "3.10.12"
  }
 },
 "nbformat": 4,
 "nbformat_minor": 5
}
