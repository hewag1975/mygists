{
 "cells": [
  {
   "cell_type": "markdown",
   "id": "ce833272-e7ef-497f-b2fe-3dcf22cf476a",
   "metadata": {},
   "source": [
    "# Geocomputation"
   ]
  },
  {
   "cell_type": "code",
   "execution_count": 1,
   "id": "d8c74312-3b13-4d30-88d0-ed1f631b8d7f",
   "metadata": {},
   "outputs": [
    {
     "data": {
      "text/plain": [
       "'/home/hendrik/Documents/repos/github/mygists/.venv/bin/python'"
      ]
     },
     "execution_count": 1,
     "metadata": {},
     "output_type": "execute_result"
    }
   ],
   "source": [
    "import sys\n",
    "sys.executable"
   ]
  }
 ],
 "metadata": {
  "kernelspec": {
   "display_name": ".venv",
   "language": "python",
   "name": ".venv"
  },
  "language_info": {
   "codemirror_mode": {
    "name": "ipython",
    "version": 3
   },
   "file_extension": ".py",
   "mimetype": "text/x-python",
   "name": "python",
   "nbconvert_exporter": "python",
   "pygments_lexer": "ipython3",
   "version": "3.10.12"
  }
 },
 "nbformat": 4,
 "nbformat_minor": 5
}
