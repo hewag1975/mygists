{
 "cells": [
  {
   "cell_type": "markdown",
   "id": "9be8becd-e4ae-4f47-9530-774911ce67ec",
   "metadata": {},
   "source": [
    "# Python built-in modules\n",
    "\n",
    "Reference: \n",
    "[5 essential built-in modules for every Python developer](https://medium.com/@cycoderx/5-essential-built-in-modules-for-every-python-developer-31ac8be2a18c)\n",
    "\n",
    "## sys"
   ]
  },
  {
   "cell_type": "code",
   "execution_count": 2,
   "id": "ba9422b1-db25-47d4-8442-0fe985326a18",
   "metadata": {},
   "outputs": [],
   "source": [
    "import sys"
   ]
  },
  {
   "cell_type": "code",
   "execution_count": 14,
   "id": "fe47fff9-121c-4380-936c-acdb84aef97f",
   "metadata": {},
   "outputs": [
    {
     "name": "stdout",
     "output_type": "stream",
     "text": [
      "Operating system: linux\n",
      "Python version: 3.10.12 (main, Nov 20 2023, 15:14:05) [GCC 11.4.0]\n",
      "Python path: ['/home/hendrik/Documents/repos/github/mygists', '/usr/lib/python310.zip', '/usr/lib/python3.10', '/usr/lib/python3.10/lib-dynload', '', '/home/hendrik/.local/lib/python3.10/site-packages', '/usr/local/lib/python3.10/dist-packages', '/usr/lib/python3/dist-packages']\n",
      "Copyright: Copyright (c) 2001-2023 Python Software Foundation.\n",
      "All Rights Reserved.\n",
      "\n",
      "Copyright (c) 2000 BeOpen.com.\n",
      "All Rights Reserved.\n",
      "\n",
      "Copyright (c) 1995-2001 Corporation for National Research Initiatives.\n",
      "All Rights Reserved.\n",
      "\n",
      "Copyright (c) 1991-1995 Stichting Mathematisch Centrum, Amsterdam.\n",
      "All Rights Reserved.\n"
     ]
    }
   ],
   "source": [
    "print('Operating system:', sys.platform)\n",
    "print('Python version:', sys.version)\n",
    "print('Python path:', sys.path)\n",
    "print('Copyright:', sys.copyright)"
   ]
  },
  {
   "cell_type": "code",
   "execution_count": 17,
   "id": "0e64ef5f-04b3-4e8e-b878-f0f73dfe2e47",
   "metadata": {},
   "outputs": [
    {
     "name": "stdout",
     "output_type": "stream",
     "text": [
      "Version info:  sys.version_info(major=3, minor=10, micro=12, releaselevel='final', serial=0)\n"
     ]
    }
   ],
   "source": [
    "print('Version info: ', sys.version_info)"
   ]
  },
  {
   "cell_type": "markdown",
   "id": "8d618e63-c138-43f4-915d-8ce7349e810e",
   "metadata": {},
   "source": [
    "List all built-in modules (note: These are modules compiled into the Python interpreter):"
   ]
  },
  {
   "cell_type": "code",
   "execution_count": 54,
   "id": "317ca169-cfb3-4512-923a-d04182ed8a97",
   "metadata": {},
   "outputs": [
    {
     "data": {
      "text/plain": [
       "['_abc',\n",
       " '_ast',\n",
       " '_bisect',\n",
       " '_blake2',\n",
       " '_codecs',\n",
       " '_collections',\n",
       " '_csv',\n",
       " '_datetime',\n",
       " '_elementtree',\n",
       " '_functools']"
      ]
     },
     "execution_count": 54,
     "metadata": {},
     "output_type": "execute_result"
    }
   ],
   "source": [
    "builtin = sys.builtin_module_names\n",
    "builtin = list(builtin)\n",
    "builtin[:10]"
   ]
  },
  {
   "cell_type": "code",
   "execution_count": 59,
   "id": "2a75f20d-7c91-4c75-a550-b21b0f2c5671",
   "metadata": {},
   "outputs": [
    {
     "data": {
      "text/plain": [
       "True"
      ]
     },
     "execution_count": 59,
     "metadata": {},
     "output_type": "execute_result"
    }
   ],
   "source": [
    "'sys' in builtin"
   ]
  },
  {
   "cell_type": "markdown",
   "id": "60fbbc17-2c94-4280-8db7-86f8680dcaf7",
   "metadata": {},
   "source": [
    "List all packages in the Python standard library (note: These are typically written in Python):"
   ]
  },
  {
   "cell_type": "code",
   "execution_count": 56,
   "id": "1a9069e2-3242-4fd2-98b4-3e7794a9fc4f",
   "metadata": {},
   "outputs": [
    {
     "data": {
      "text/plain": [
       "['ast',\n",
       " 'opcode',\n",
       " 'csv',\n",
       " 'msilib',\n",
       " 'platform',\n",
       " '_ctypes',\n",
       " '_osx_support',\n",
       " 'ntpath',\n",
       " 'grp',\n",
       " 'mimetypes']"
      ]
     },
     "execution_count": 56,
     "metadata": {},
     "output_type": "execute_result"
    }
   ],
   "source": [
    "lib = sys.stdlib_module_names\n",
    "lib = list(lib)\n",
    "lib[:10]"
   ]
  },
  {
   "cell_type": "code",
   "execution_count": 58,
   "id": "0f714cde-b558-4761-a37d-8ad28d8ca1a2",
   "metadata": {},
   "outputs": [
    {
     "data": {
      "text/plain": [
       "True"
      ]
     },
     "execution_count": 58,
     "metadata": {},
     "output_type": "execute_result"
    }
   ],
   "source": [
    "'os' in lib"
   ]
  },
  {
   "cell_type": "markdown",
   "id": "d76f4d86-8ecd-47a1-a3d3-bacfe03c0d59",
   "metadata": {},
   "source": [
    "## os"
   ]
  },
  {
   "cell_type": "code",
   "execution_count": 25,
   "id": "6ed39d43-96c0-49d7-8730-21379ec24145",
   "metadata": {},
   "outputs": [],
   "source": [
    "import os"
   ]
  },
  {
   "cell_type": "code",
   "execution_count": 28,
   "id": "2db992f3-a2e1-4133-a778-86959da147df",
   "metadata": {},
   "outputs": [
    {
     "data": {
      "text/plain": [
       "'/home/hendrik/Documents/repos/github/mygists'"
      ]
     },
     "execution_count": 28,
     "metadata": {},
     "output_type": "execute_result"
    }
   ],
   "source": [
    "os.getcwd()"
   ]
  },
  {
   "cell_type": "code",
   "execution_count": 30,
   "id": "7dfd64bb-9fda-4978-9a12-bd1a14bb0909",
   "metadata": {},
   "outputs": [
    {
     "data": {
      "text/plain": [
       "['.git',\n",
       " 'geo',\n",
       " 'fastai_vision_data',\n",
       " 'arrow_parquet.ipynb',\n",
       " '.env',\n",
       " 'd2l',\n",
       " 'geocomputation.ipynb',\n",
       " 'hug_intro.ipynb',\n",
       " 'Untitled.ipynb',\n",
       " '.gitignore',\n",
       " 'd2l_datasets.ipynb',\n",
       " 'd2l_datasets_data',\n",
       " 'fastai_vision.ipynb',\n",
       " '.ipynb_checkpoints',\n",
       " 'd2l_augmentation.ipynb',\n",
       " 'd2l_intro.ipynb',\n",
       " 'fastai',\n",
       " 'hug',\n",
       " '_archive']"
      ]
     },
     "execution_count": 30,
     "metadata": {},
     "output_type": "execute_result"
    }
   ],
   "source": [
    "os.listdir('.')"
   ]
  },
  {
   "cell_type": "code",
   "execution_count": 31,
   "id": "8b26eb33-74dd-4f80-b8c5-4b270f1e46dd",
   "metadata": {},
   "outputs": [
    {
     "data": {
      "text/plain": [
       "os.stat_result(st_mode=33204, st_ino=7883101, st_dev=66306, st_nlink=1, st_uid=1000, st_gid=1001, st_size=4289, st_atime=1720351883, st_mtime=1720351883, st_ctime=1720351892)"
      ]
     },
     "execution_count": 31,
     "metadata": {},
     "output_type": "execute_result"
    }
   ],
   "source": [
    "os.stat('./built-in.ipynb')"
   ]
  },
  {
   "cell_type": "code",
   "execution_count": 35,
   "id": "6edb9107-167d-4b71-99d2-15076ccf9abd",
   "metadata": {},
   "outputs": [
    {
     "name": "stdout",
     "output_type": "stream",
     "text": [
      "hendrik\n"
     ]
    },
    {
     "data": {
      "text/plain": [
       "0"
      ]
     },
     "execution_count": 35,
     "metadata": {},
     "output_type": "execute_result"
    }
   ],
   "source": [
    "os.system('whoami')"
   ]
  },
  {
   "cell_type": "markdown",
   "id": "e431f565-7ff7-4f64-9603-a0e815fe32d4",
   "metadata": {},
   "source": [
    "## math"
   ]
  },
  {
   "cell_type": "code",
   "execution_count": 37,
   "id": "4e258909-6e95-4ac7-b9e9-6861f6c046fb",
   "metadata": {},
   "outputs": [],
   "source": [
    "import math"
   ]
  },
  {
   "cell_type": "code",
   "execution_count": 38,
   "id": "490857a1-719d-4c4f-a488-ed75c4bdbe8c",
   "metadata": {},
   "outputs": [
    {
     "data": {
      "text/plain": [
       "5.0"
      ]
     },
     "execution_count": 38,
     "metadata": {},
     "output_type": "execute_result"
    }
   ],
   "source": [
    "math.sqrt(25)"
   ]
  },
  {
   "cell_type": "code",
   "execution_count": 39,
   "id": "12d1d198-871a-4a36-a9e4-ebba2c944e3a",
   "metadata": {},
   "outputs": [
    {
     "data": {
      "text/plain": [
       "2"
      ]
     },
     "execution_count": 39,
     "metadata": {},
     "output_type": "execute_result"
    }
   ],
   "source": [
    "math.floor(2.1)"
   ]
  }
 ],
 "metadata": {
  "kernelspec": {
   "display_name": "Python 3 (ipykernel)",
   "language": "python",
   "name": "python3"
  },
  "language_info": {
   "codemirror_mode": {
    "name": "ipython",
    "version": 3
   },
   "file_extension": ".py",
   "mimetype": "text/x-python",
   "name": "python",
   "nbconvert_exporter": "python",
   "pygments_lexer": "ipython3",
   "version": "3.10.12"
  }
 },
 "nbformat": 4,
 "nbformat_minor": 5
}
